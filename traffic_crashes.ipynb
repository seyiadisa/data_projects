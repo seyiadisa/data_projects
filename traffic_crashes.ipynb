{
 "cells": [
  {
   "cell_type": "markdown",
   "metadata": {},
   "source": [
    "# Analysis of Car Crashes in Chicago\n",
    "_by Oluwaseyi Adisa_\n",
    "\n",
    "The aim of this analysis is to find some of the factors that contribute the most to car crashes in Chicago using plots made with Seaborn.\n"
   ]
  },
  {
   "cell_type": "code",
   "execution_count": 1,
   "metadata": {},
   "outputs": [],
   "source": [
    "import pandas as pd\n",
    "import numpy as np\n",
    "import matplotlib.pyplot as plt\n",
    "import seaborn as sns\n",
    "\n",
    "%matplotlib inline"
   ]
  },
  {
   "cell_type": "code",
   "execution_count": 2,
   "metadata": {},
   "outputs": [
    {
     "data": {
      "text/html": [
       "<div>\n",
       "<style scoped>\n",
       "    .dataframe tbody tr th:only-of-type {\n",
       "        vertical-align: middle;\n",
       "    }\n",
       "\n",
       "    .dataframe tbody tr th {\n",
       "        vertical-align: top;\n",
       "    }\n",
       "\n",
       "    .dataframe thead th {\n",
       "        text-align: right;\n",
       "    }\n",
       "</style>\n",
       "<table border=\"1\" class=\"dataframe\">\n",
       "  <thead>\n",
       "    <tr style=\"text-align: right;\">\n",
       "      <th></th>\n",
       "      <th>CRASH_RECORD_ID</th>\n",
       "      <th>RD_NO</th>\n",
       "      <th>CRASH_DATE_EST_I</th>\n",
       "      <th>CRASH_DATE</th>\n",
       "      <th>POSTED_SPEED_LIMIT</th>\n",
       "      <th>TRAFFIC_CONTROL_DEVICE</th>\n",
       "      <th>DEVICE_CONDITION</th>\n",
       "      <th>WEATHER_CONDITION</th>\n",
       "      <th>LIGHTING_CONDITION</th>\n",
       "      <th>FIRST_CRASH_TYPE</th>\n",
       "      <th>...</th>\n",
       "      <th>INJURIES_NON_INCAPACITATING</th>\n",
       "      <th>INJURIES_REPORTED_NOT_EVIDENT</th>\n",
       "      <th>INJURIES_NO_INDICATION</th>\n",
       "      <th>INJURIES_UNKNOWN</th>\n",
       "      <th>CRASH_HOUR</th>\n",
       "      <th>CRASH_DAY_OF_WEEK</th>\n",
       "      <th>CRASH_MONTH</th>\n",
       "      <th>LATITUDE</th>\n",
       "      <th>LONGITUDE</th>\n",
       "      <th>LOCATION</th>\n",
       "    </tr>\n",
       "  </thead>\n",
       "  <tbody>\n",
       "    <tr>\n",
       "      <th>0</th>\n",
       "      <td>012c5bfce715efb2f2b387d6dd86f9c13e9dc1809fb52a...</td>\n",
       "      <td>JG341943</td>\n",
       "      <td>NaN</td>\n",
       "      <td>07/12/2023 03:05:00 PM</td>\n",
       "      <td>30</td>\n",
       "      <td>NO CONTROLS</td>\n",
       "      <td>NO CONTROLS</td>\n",
       "      <td>CLEAR</td>\n",
       "      <td>DAYLIGHT</td>\n",
       "      <td>TURNING</td>\n",
       "      <td>...</td>\n",
       "      <td>0.0</td>\n",
       "      <td>0.0</td>\n",
       "      <td>2.0</td>\n",
       "      <td>0.0</td>\n",
       "      <td>15</td>\n",
       "      <td>4</td>\n",
       "      <td>7</td>\n",
       "      <td>41.778542</td>\n",
       "      <td>-87.742065</td>\n",
       "      <td>POINT (-87.742064741348 41.778541938106)</td>\n",
       "    </tr>\n",
       "    <tr>\n",
       "      <th>1</th>\n",
       "      <td>01d457f032e23d935a0b8f6b4c88221375180ffd4cd959...</td>\n",
       "      <td>JG338388</td>\n",
       "      <td>NaN</td>\n",
       "      <td>07/12/2023 05:50:00 PM</td>\n",
       "      <td>30</td>\n",
       "      <td>NO CONTROLS</td>\n",
       "      <td>NO CONTROLS</td>\n",
       "      <td>CLEAR</td>\n",
       "      <td>DAYLIGHT</td>\n",
       "      <td>REAR END</td>\n",
       "      <td>...</td>\n",
       "      <td>0.0</td>\n",
       "      <td>0.0</td>\n",
       "      <td>2.0</td>\n",
       "      <td>0.0</td>\n",
       "      <td>17</td>\n",
       "      <td>4</td>\n",
       "      <td>7</td>\n",
       "      <td>41.742131</td>\n",
       "      <td>-87.721824</td>\n",
       "      <td>POINT (-87.72182410033 41.742130554062)</td>\n",
       "    </tr>\n",
       "    <tr>\n",
       "      <th>2</th>\n",
       "      <td>02249b4747a4bf40b88a8357304a98dfeaef9c38eebbf0...</td>\n",
       "      <td>JG350008</td>\n",
       "      <td>NaN</td>\n",
       "      <td>07/12/2023 02:00:00 PM</td>\n",
       "      <td>30</td>\n",
       "      <td>NO CONTROLS</td>\n",
       "      <td>NO CONTROLS</td>\n",
       "      <td>CLEAR</td>\n",
       "      <td>DAYLIGHT</td>\n",
       "      <td>OTHER OBJECT</td>\n",
       "      <td>...</td>\n",
       "      <td>0.0</td>\n",
       "      <td>0.0</td>\n",
       "      <td>1.0</td>\n",
       "      <td>0.0</td>\n",
       "      <td>14</td>\n",
       "      <td>4</td>\n",
       "      <td>7</td>\n",
       "      <td>41.719844</td>\n",
       "      <td>-87.584790</td>\n",
       "      <td>POINT (-87.584789974824 41.719844228292)</td>\n",
       "    </tr>\n",
       "    <tr>\n",
       "      <th>3</th>\n",
       "      <td>03e3b6caad71b78ed9ae325648effa9512bfb2517aed30...</td>\n",
       "      <td>JG338049</td>\n",
       "      <td>NaN</td>\n",
       "      <td>07/12/2023 07:05:00 AM</td>\n",
       "      <td>30</td>\n",
       "      <td>TRAFFIC SIGNAL</td>\n",
       "      <td>UNKNOWN</td>\n",
       "      <td>FREEZING RAIN/DRIZZLE</td>\n",
       "      <td>DAYLIGHT</td>\n",
       "      <td>REAR END</td>\n",
       "      <td>...</td>\n",
       "      <td>0.0</td>\n",
       "      <td>0.0</td>\n",
       "      <td>2.0</td>\n",
       "      <td>0.0</td>\n",
       "      <td>7</td>\n",
       "      <td>4</td>\n",
       "      <td>7</td>\n",
       "      <td>41.925105</td>\n",
       "      <td>-87.668291</td>\n",
       "      <td>POINT (-87.668291181568 41.925104953308)</td>\n",
       "    </tr>\n",
       "    <tr>\n",
       "      <th>4</th>\n",
       "      <td>0481fc919b38f1572d4ba04b069766102d904a662ff096...</td>\n",
       "      <td>JG338431</td>\n",
       "      <td>NaN</td>\n",
       "      <td>07/12/2023 06:30:00 PM</td>\n",
       "      <td>30</td>\n",
       "      <td>NO CONTROLS</td>\n",
       "      <td>NO CONTROLS</td>\n",
       "      <td>CLEAR</td>\n",
       "      <td>DAYLIGHT</td>\n",
       "      <td>REAR END</td>\n",
       "      <td>...</td>\n",
       "      <td>0.0</td>\n",
       "      <td>0.0</td>\n",
       "      <td>2.0</td>\n",
       "      <td>0.0</td>\n",
       "      <td>18</td>\n",
       "      <td>4</td>\n",
       "      <td>7</td>\n",
       "      <td>41.975258</td>\n",
       "      <td>-87.751991</td>\n",
       "      <td>POINT (-87.751990557158 41.97525809527)</td>\n",
       "    </tr>\n",
       "  </tbody>\n",
       "</table>\n",
       "<p>5 rows × 49 columns</p>\n",
       "</div>"
      ],
      "text/plain": [
       "                                     CRASH_RECORD_ID     RD_NO  \\\n",
       "0  012c5bfce715efb2f2b387d6dd86f9c13e9dc1809fb52a...  JG341943   \n",
       "1  01d457f032e23d935a0b8f6b4c88221375180ffd4cd959...  JG338388   \n",
       "2  02249b4747a4bf40b88a8357304a98dfeaef9c38eebbf0...  JG350008   \n",
       "3  03e3b6caad71b78ed9ae325648effa9512bfb2517aed30...  JG338049   \n",
       "4  0481fc919b38f1572d4ba04b069766102d904a662ff096...  JG338431   \n",
       "\n",
       "  CRASH_DATE_EST_I              CRASH_DATE  POSTED_SPEED_LIMIT  \\\n",
       "0              NaN  07/12/2023 03:05:00 PM                  30   \n",
       "1              NaN  07/12/2023 05:50:00 PM                  30   \n",
       "2              NaN  07/12/2023 02:00:00 PM                  30   \n",
       "3              NaN  07/12/2023 07:05:00 AM                  30   \n",
       "4              NaN  07/12/2023 06:30:00 PM                  30   \n",
       "\n",
       "  TRAFFIC_CONTROL_DEVICE DEVICE_CONDITION      WEATHER_CONDITION  \\\n",
       "0            NO CONTROLS      NO CONTROLS                  CLEAR   \n",
       "1            NO CONTROLS      NO CONTROLS                  CLEAR   \n",
       "2            NO CONTROLS      NO CONTROLS                  CLEAR   \n",
       "3         TRAFFIC SIGNAL          UNKNOWN  FREEZING RAIN/DRIZZLE   \n",
       "4            NO CONTROLS      NO CONTROLS                  CLEAR   \n",
       "\n",
       "  LIGHTING_CONDITION FIRST_CRASH_TYPE  ... INJURIES_NON_INCAPACITATING  \\\n",
       "0           DAYLIGHT          TURNING  ...                         0.0   \n",
       "1           DAYLIGHT         REAR END  ...                         0.0   \n",
       "2           DAYLIGHT     OTHER OBJECT  ...                         0.0   \n",
       "3           DAYLIGHT         REAR END  ...                         0.0   \n",
       "4           DAYLIGHT         REAR END  ...                         0.0   \n",
       "\n",
       "   INJURIES_REPORTED_NOT_EVIDENT INJURIES_NO_INDICATION INJURIES_UNKNOWN  \\\n",
       "0                            0.0                    2.0              0.0   \n",
       "1                            0.0                    2.0              0.0   \n",
       "2                            0.0                    1.0              0.0   \n",
       "3                            0.0                    2.0              0.0   \n",
       "4                            0.0                    2.0              0.0   \n",
       "\n",
       "  CRASH_HOUR CRASH_DAY_OF_WEEK CRASH_MONTH   LATITUDE  LONGITUDE  \\\n",
       "0         15                 4           7  41.778542 -87.742065   \n",
       "1         17                 4           7  41.742131 -87.721824   \n",
       "2         14                 4           7  41.719844 -87.584790   \n",
       "3          7                 4           7  41.925105 -87.668291   \n",
       "4         18                 4           7  41.975258 -87.751991   \n",
       "\n",
       "                                   LOCATION  \n",
       "0  POINT (-87.742064741348 41.778541938106)  \n",
       "1   POINT (-87.72182410033 41.742130554062)  \n",
       "2  POINT (-87.584789974824 41.719844228292)  \n",
       "3  POINT (-87.668291181568 41.925104953308)  \n",
       "4   POINT (-87.751990557158 41.97525809527)  \n",
       "\n",
       "[5 rows x 49 columns]"
      ]
     },
     "execution_count": 2,
     "metadata": {},
     "output_type": "execute_result"
    }
   ],
   "source": [
    "df_crashes = pd.read_csv(\"datasets/Traffic_Crashes.csv\")\n",
    "df_crashes.head()"
   ]
  },
  {
   "cell_type": "markdown",
   "metadata": {},
   "source": [
    "There are a lot of columns and this is not meant to an in-depth analysis so I am going to remove all the columns that are not relevant to this analysis"
   ]
  },
  {
   "cell_type": "code",
   "execution_count": 3,
   "metadata": {},
   "outputs": [
    {
     "name": "stdout",
     "output_type": "stream",
     "text": [
      "<class 'pandas.core.frame.DataFrame'>\n",
      "RangeIndex: 746498 entries, 0 to 746497\n",
      "Data columns (total 11 columns):\n",
      " #   Column                Non-Null Count   Dtype \n",
      "---  ------                --------------   ----- \n",
      " 0   CRASH_DATE            746498 non-null  object\n",
      " 1   POSTED_SPEED_LIMIT    746498 non-null  int64 \n",
      " 2   WEATHER_CONDITION     746498 non-null  object\n",
      " 3   LIGHTING_CONDITION    746498 non-null  object\n",
      " 4   FIRST_CRASH_TYPE      746498 non-null  object\n",
      " 5   ALIGNMENT             746498 non-null  object\n",
      " 6   ROADWAY_SURFACE_COND  746498 non-null  object\n",
      " 7   ROAD_DEFECT           746498 non-null  object\n",
      " 8   HIT_AND_RUN_I         232792 non-null  object\n",
      " 9   WORK_ZONE_I           4323 non-null    object\n",
      " 10  WORK_ZONE_TYPE        3370 non-null    object\n",
      "dtypes: int64(1), object(10)\n",
      "memory usage: 62.6+ MB\n"
     ]
    }
   ],
   "source": [
    "columns_to_keep = ['CRASH_DATE', 'POSTED_SPEED_LIMIT', 'WEATHER_CONDITION', 'LIGHTING_CONDITION', 'FIRST_CRASH_TYPE', 'ALIGNMENT', 'ROADWAY_SURFACE_COND', 'ROAD_DEFECT', 'HIT_AND_RUN_I', 'WORK_ZONE_I', 'WORK_ZONE_TYPE']\n",
    "df_crashes = df_crashes.drop(df_crashes.columns.difference(columns_to_keep), axis=1)\n",
    "df_crashes.info()"
   ]
  },
  {
   "cell_type": "code",
   "execution_count": 4,
   "metadata": {},
   "outputs": [
    {
     "data": {
      "text/html": [
       "<div>\n",
       "<style scoped>\n",
       "    .dataframe tbody tr th:only-of-type {\n",
       "        vertical-align: middle;\n",
       "    }\n",
       "\n",
       "    .dataframe tbody tr th {\n",
       "        vertical-align: top;\n",
       "    }\n",
       "\n",
       "    .dataframe thead th {\n",
       "        text-align: right;\n",
       "    }\n",
       "</style>\n",
       "<table border=\"1\" class=\"dataframe\">\n",
       "  <thead>\n",
       "    <tr style=\"text-align: right;\">\n",
       "      <th></th>\n",
       "      <th>CRASH_DATE</th>\n",
       "      <th>POSTED_SPEED_LIMIT</th>\n",
       "      <th>WEATHER_CONDITION</th>\n",
       "      <th>LIGHTING_CONDITION</th>\n",
       "      <th>FIRST_CRASH_TYPE</th>\n",
       "      <th>ALIGNMENT</th>\n",
       "      <th>ROADWAY_SURFACE_COND</th>\n",
       "      <th>ROAD_DEFECT</th>\n",
       "      <th>HIT_AND_RUN_I</th>\n",
       "      <th>WORK_ZONE_I</th>\n",
       "      <th>WORK_ZONE_TYPE</th>\n",
       "    </tr>\n",
       "  </thead>\n",
       "  <tbody>\n",
       "    <tr>\n",
       "      <th>0</th>\n",
       "      <td>07/12/2023 03:05:00 PM</td>\n",
       "      <td>30</td>\n",
       "      <td>CLEAR</td>\n",
       "      <td>DAYLIGHT</td>\n",
       "      <td>TURNING</td>\n",
       "      <td>STRAIGHT AND LEVEL</td>\n",
       "      <td>UNKNOWN</td>\n",
       "      <td>NO DEFECTS</td>\n",
       "      <td>NaN</td>\n",
       "      <td>NaN</td>\n",
       "      <td>NaN</td>\n",
       "    </tr>\n",
       "    <tr>\n",
       "      <th>1</th>\n",
       "      <td>07/12/2023 05:50:00 PM</td>\n",
       "      <td>30</td>\n",
       "      <td>CLEAR</td>\n",
       "      <td>DAYLIGHT</td>\n",
       "      <td>REAR END</td>\n",
       "      <td>STRAIGHT AND LEVEL</td>\n",
       "      <td>DRY</td>\n",
       "      <td>NO DEFECTS</td>\n",
       "      <td>NaN</td>\n",
       "      <td>NaN</td>\n",
       "      <td>NaN</td>\n",
       "    </tr>\n",
       "    <tr>\n",
       "      <th>2</th>\n",
       "      <td>07/12/2023 02:00:00 PM</td>\n",
       "      <td>30</td>\n",
       "      <td>CLEAR</td>\n",
       "      <td>DAYLIGHT</td>\n",
       "      <td>OTHER OBJECT</td>\n",
       "      <td>STRAIGHT AND LEVEL</td>\n",
       "      <td>DRY</td>\n",
       "      <td>RUT, HOLES</td>\n",
       "      <td>NaN</td>\n",
       "      <td>NaN</td>\n",
       "      <td>NaN</td>\n",
       "    </tr>\n",
       "    <tr>\n",
       "      <th>3</th>\n",
       "      <td>07/12/2023 07:05:00 AM</td>\n",
       "      <td>30</td>\n",
       "      <td>FREEZING RAIN/DRIZZLE</td>\n",
       "      <td>DAYLIGHT</td>\n",
       "      <td>REAR END</td>\n",
       "      <td>STRAIGHT AND LEVEL</td>\n",
       "      <td>UNKNOWN</td>\n",
       "      <td>UNKNOWN</td>\n",
       "      <td>NaN</td>\n",
       "      <td>NaN</td>\n",
       "      <td>NaN</td>\n",
       "    </tr>\n",
       "    <tr>\n",
       "      <th>4</th>\n",
       "      <td>07/12/2023 06:30:00 PM</td>\n",
       "      <td>30</td>\n",
       "      <td>CLEAR</td>\n",
       "      <td>DAYLIGHT</td>\n",
       "      <td>REAR END</td>\n",
       "      <td>STRAIGHT AND LEVEL</td>\n",
       "      <td>WET</td>\n",
       "      <td>NO DEFECTS</td>\n",
       "      <td>NaN</td>\n",
       "      <td>NaN</td>\n",
       "      <td>NaN</td>\n",
       "    </tr>\n",
       "  </tbody>\n",
       "</table>\n",
       "</div>"
      ],
      "text/plain": [
       "               CRASH_DATE  POSTED_SPEED_LIMIT      WEATHER_CONDITION  \\\n",
       "0  07/12/2023 03:05:00 PM                  30                  CLEAR   \n",
       "1  07/12/2023 05:50:00 PM                  30                  CLEAR   \n",
       "2  07/12/2023 02:00:00 PM                  30                  CLEAR   \n",
       "3  07/12/2023 07:05:00 AM                  30  FREEZING RAIN/DRIZZLE   \n",
       "4  07/12/2023 06:30:00 PM                  30                  CLEAR   \n",
       "\n",
       "  LIGHTING_CONDITION FIRST_CRASH_TYPE           ALIGNMENT  \\\n",
       "0           DAYLIGHT          TURNING  STRAIGHT AND LEVEL   \n",
       "1           DAYLIGHT         REAR END  STRAIGHT AND LEVEL   \n",
       "2           DAYLIGHT     OTHER OBJECT  STRAIGHT AND LEVEL   \n",
       "3           DAYLIGHT         REAR END  STRAIGHT AND LEVEL   \n",
       "4           DAYLIGHT         REAR END  STRAIGHT AND LEVEL   \n",
       "\n",
       "  ROADWAY_SURFACE_COND ROAD_DEFECT HIT_AND_RUN_I WORK_ZONE_I WORK_ZONE_TYPE  \n",
       "0              UNKNOWN  NO DEFECTS           NaN         NaN            NaN  \n",
       "1                  DRY  NO DEFECTS           NaN         NaN            NaN  \n",
       "2                  DRY  RUT, HOLES           NaN         NaN            NaN  \n",
       "3              UNKNOWN     UNKNOWN           NaN         NaN            NaN  \n",
       "4                  WET  NO DEFECTS           NaN         NaN            NaN  "
      ]
     },
     "execution_count": 4,
     "metadata": {},
     "output_type": "execute_result"
    }
   ],
   "source": [
    "df_crashes.head()"
   ]
  },
  {
   "cell_type": "markdown",
   "metadata": {},
   "source": [
    "These are the columns I am going to analyse. (The details were given by Bing Chat)\n",
    "\n",
    "- CRASH_DATE: Date and time of crash.\n",
    "- POSTED_SPEED_LIMIT: Posted speed limit in mph.\n",
    "- WEATHER_CONDITION: Weather condition at time of crash.\n",
    "- LIGHTING_CONDITION: Light condition at time of crash.\n",
    "- FIRST_CRASH_TYPE: Type of first collision in crash.\n",
    "- ALIGNMENT: Street alignment at crash site.\n",
    "- ROADWAY_SURFACE_COND: Road surface condition.\n",
    "- ROAD_DEFECT: Road defects.\n",
    "- HIT_AND_RUN_I: Crash did/did not involve a driver who caused the crash and fled the scene without exchanging information and/or rendering aid.\n",
    "- WORK_ZONE_I : Whether the crash occurred in an active work zone.\n",
    "- WORK_ZONE_TYPE : The type of work zone present at crash location."
   ]
  },
  {
   "cell_type": "markdown",
   "metadata": {},
   "source": [
    "I'm going to convert the CRASH_DATE column to a datetime object"
   ]
  },
  {
   "cell_type": "code",
   "execution_count": 5,
   "metadata": {},
   "outputs": [],
   "source": [
    "df_crashes['CRASH_DATE'] = pd.to_datetime(df_crashes['CRASH_DATE'])"
   ]
  },
  {
   "cell_type": "markdown",
   "metadata": {},
   "source": [
    "Next, I'll check the values of the HIT_AND_RUN_I, WORK_ZONE_I, WORK_ZONE_TYPE columns because they have a lot of missing values"
   ]
  },
  {
   "cell_type": "code",
   "execution_count": 6,
   "metadata": {},
   "outputs": [
    {
     "data": {
      "text/plain": [
       "Y    222769\n",
       "N     10023\n",
       "Name: HIT_AND_RUN_I, dtype: int64"
      ]
     },
     "execution_count": 6,
     "metadata": {},
     "output_type": "execute_result"
    }
   ],
   "source": [
    "df_crashes['HIT_AND_RUN_I'].value_counts()"
   ]
  },
  {
   "cell_type": "code",
   "execution_count": 7,
   "metadata": {},
   "outputs": [
    {
     "data": {
      "text/plain": [
       "Y    3370\n",
       "N     953\n",
       "Name: WORK_ZONE_I, dtype: int64"
      ]
     },
     "execution_count": 7,
     "metadata": {},
     "output_type": "execute_result"
    }
   ],
   "source": [
    "df_crashes['WORK_ZONE_I'].value_counts()"
   ]
  },
  {
   "cell_type": "code",
   "execution_count": 8,
   "metadata": {},
   "outputs": [
    {
     "data": {
      "text/plain": [
       "CONSTRUCTION    2352\n",
       "UNKNOWN          466\n",
       "MAINTENANCE      342\n",
       "UTILITY          210\n",
       "Name: WORK_ZONE_TYPE, dtype: int64"
      ]
     },
     "execution_count": 8,
     "metadata": {},
     "output_type": "execute_result"
    }
   ],
   "source": [
    "df_crashes['WORK_ZONE_TYPE'].value_counts()"
   ]
  },
  {
   "cell_type": "markdown",
   "metadata": {},
   "source": [
    "There are over 700k observations in the dataset and the values in the HIT_AND_RUN_I, WORK_ZONE_I, WORK_ZONE_TYPE columns are not significant enough so I'll remove them"
   ]
  },
  {
   "cell_type": "code",
   "execution_count": 9,
   "metadata": {},
   "outputs": [
    {
     "name": "stdout",
     "output_type": "stream",
     "text": [
      "<class 'pandas.core.frame.DataFrame'>\n",
      "RangeIndex: 746498 entries, 0 to 746497\n",
      "Data columns (total 8 columns):\n",
      " #   Column                Non-Null Count   Dtype         \n",
      "---  ------                --------------   -----         \n",
      " 0   CRASH_DATE            746498 non-null  datetime64[ns]\n",
      " 1   POSTED_SPEED_LIMIT    746498 non-null  int64         \n",
      " 2   WEATHER_CONDITION     746498 non-null  object        \n",
      " 3   LIGHTING_CONDITION    746498 non-null  object        \n",
      " 4   FIRST_CRASH_TYPE      746498 non-null  object        \n",
      " 5   ALIGNMENT             746498 non-null  object        \n",
      " 6   ROADWAY_SURFACE_COND  746498 non-null  object        \n",
      " 7   ROAD_DEFECT           746498 non-null  object        \n",
      "dtypes: datetime64[ns](1), int64(1), object(6)\n",
      "memory usage: 45.6+ MB\n"
     ]
    }
   ],
   "source": [
    "df_crashes = df_crashes.drop(['HIT_AND_RUN_I', 'WORK_ZONE_I', 'WORK_ZONE_TYPE'], axis=1)\n",
    "df_crashes.info()"
   ]
  },
  {
   "cell_type": "markdown",
   "metadata": {},
   "source": [
    "## Visualizations"
   ]
  },
  {
   "cell_type": "markdown",
   "metadata": {},
   "source": [
    "### Univariate\n",
    "Now I am going to be plotting univariate visualizations of the data using Seaborn"
   ]
  },
  {
   "cell_type": "code",
   "execution_count": 10,
   "metadata": {},
   "outputs": [
    {
     "data": {
      "text/plain": [
       "<AxesSubplot:xlabel='POSTED_SPEED_LIMIT', ylabel='Count'>"
      ]
     },
     "execution_count": 10,
     "metadata": {},
     "output_type": "execute_result"
    },
    {
     "data": {
      "image/png": "[encoded data removed]",
      "text/plain": [
       "<Figure size 432x288 with 1 Axes>"
      ]
     },
     "metadata": {
      "needs_background": "light"
     },
     "output_type": "display_data"
    }
   ],
   "source": [
    "sns.histplot(data=df_crashes, x='POSTED_SPEED_LIMIT', binwidth=5)"
   ]
  },
  {
   "cell_type": "markdown",
   "metadata": {},
   "source": [
    "Most of the crashes happened between 30 and 35 mph"
   ]
  },
  {
   "cell_type": "code",
   "execution_count": 11,
   "metadata": {},
   "outputs": [
    {
     "data": {
      "text/plain": [
       "(array([ 0,  1,  2,  3,  4,  5,  6,  7,  8,  9, 10, 11]),\n",
       " [Text(0, 0, 'CLEAR'),\n",
       "  Text(1, 0, 'FREEZING RAIN/DRIZZLE'),\n",
       "  Text(2, 0, 'RAIN'),\n",
       "  Text(3, 0, 'UNKNOWN'),\n",
       "  Text(4, 0, 'CLOUDY/OVERCAST'),\n",
       "  Text(5, 0, 'SNOW'),\n",
       "  Text(6, 0, 'FOG/SMOKE/HAZE'),\n",
       "  Text(7, 0, 'OTHER'),\n",
       "  Text(8, 0, 'SEVERE CROSS WIND GATE'),\n",
       "  Text(9, 0, 'SLEET/HAIL'),\n",
       "  Text(10, 0, 'BLOWING SNOW'),\n",
       "  Text(11, 0, 'BLOWING SAND, SOIL, DIRT')])"
      ]
     },
     "execution_count": 11,
     "metadata": {},
     "output_type": "execute_result"
    },
    {
     "data": {
      "image/png": "[encoded data removed]",
      "text/plain": [
       "<Figure size 432x288 with 1 Axes>"
      ]
     },
     "metadata": {
      "needs_background": "light"
     },
     "output_type": "display_data"
    }
   ],
   "source": [
    "sns.countplot(data=df_crashes, x='WEATHER_CONDITION')\n",
    "plt.xticks(rotation=90)"
   ]
  },
  {
   "cell_type": "markdown",
   "metadata": {},
   "source": [
    "Bad weather didn't cause more crashes as most of the crashes happened in clear weather"
   ]
  },
  {
   "cell_type": "code",
   "execution_count": 12,
   "metadata": {},
   "outputs": [
    {
     "data": {
      "text/plain": [
       "(array([0, 1, 2, 3, 4, 5]),\n",
       " [Text(0, 0, 'DAYLIGHT'),\n",
       "  Text(1, 0, 'DARKNESS, LIGHTED ROAD'),\n",
       "  Text(2, 0, 'UNKNOWN'),\n",
       "  Text(3, 0, 'DARKNESS'),\n",
       "  Text(4, 0, 'DAWN'),\n",
       "  Text(5, 0, 'DUSK')])"
      ]
     },
     "execution_count": 12,
     "metadata": {},
     "output_type": "execute_result"
    },
    {
     "data": {
      "image/png": "[encoded data removed]",
      "text/plain": [
       "<Figure size 432x288 with 1 Axes>"
      ]
     },
     "metadata": {
      "needs_background": "light"
     },
     "output_type": "display_data"
    }
   ],
   "source": [
    "sns.countplot(data=df_crashes, x='LIGHTING_CONDITION')\n",
    "plt.xticks(rotation=90)"
   ]
  },
  {
   "cell_type": "markdown",
   "metadata": {},
   "source": [
    "Also, most of the crashes happened during the day with only about 20% that happened at night with lit roads."
   ]
  },
  {
   "cell_type": "code",
   "execution_count": 13,
   "metadata": {},
   "outputs": [
    {
     "data": {
      "text/plain": [
       "(array([0, 1, 2, 3, 4, 5, 6]),\n",
       " [Text(0, 0, 'UNKNOWN'),\n",
       "  Text(1, 0, 'DRY'),\n",
       "  Text(2, 0, 'WET'),\n",
       "  Text(3, 0, 'ICE'),\n",
       "  Text(4, 0, 'OTHER'),\n",
       "  Text(5, 0, 'SNOW OR SLUSH'),\n",
       "  Text(6, 0, 'SAND, MUD, DIRT')])"
      ]
     },
     "execution_count": 13,
     "metadata": {},
     "output_type": "execute_result"
    },
    {
     "data": {
      "image/png": "[encoded data removed]",
      "text/plain": [
       "<Figure size 432x288 with 1 Axes>"
      ]
     },
     "metadata": {
      "needs_background": "light"
     },
     "output_type": "display_data"
    }
   ],
   "source": [
    "sns.countplot(data=df_crashes, x='ROADWAY_SURFACE_COND')\n",
    "plt.xticks(rotation=90)"
   ]
  },
  {
   "cell_type": "markdown",
   "metadata": {},
   "source": [
    "Most of the crashes happened on dry roads."
   ]
  },
  {
   "cell_type": "code",
   "execution_count": 14,
   "metadata": {},
   "outputs": [
    {
     "data": {
      "text/plain": [
       "(array([0, 1, 2, 3, 4, 5, 6]),\n",
       " [Text(0, 0, 'NO DEFECTS'),\n",
       "  Text(1, 0, 'RUT, HOLES'),\n",
       "  Text(2, 0, 'UNKNOWN'),\n",
       "  Text(3, 0, 'OTHER'),\n",
       "  Text(4, 0, 'SHOULDER DEFECT'),\n",
       "  Text(5, 0, 'WORN SURFACE'),\n",
       "  Text(6, 0, 'DEBRIS ON ROADWAY')])"
      ]
     },
     "execution_count": 14,
     "metadata": {},
     "output_type": "execute_result"
    },
    {
     "data": {
      "image/png": "[encoded data removed]",
      "text/plain": [
       "<Figure size 432x288 with 1 Axes>"
      ]
     },
     "metadata": {
      "needs_background": "light"
     },
     "output_type": "display_data"
    }
   ],
   "source": [
    "sns.countplot(data=df_crashes, x='ROAD_DEFECT')\n",
    "plt.xticks(rotation=90)"
   ]
  },
  {
   "cell_type": "markdown",
   "metadata": {},
   "source": [
    "From the visualizations, majority of the car crashes happened in conditions where they shouldn't have occured. I will end this analysis here for now; in the future I will do a more elaborate analysis and use all the features that were in this dataset"
   ]
  }
 ],
 "metadata": {
  "kernelspec": {
   "display_name": "base",
   "language": "python",
   "name": "python3"
  },
  "language_info": {
   "codemirror_mode": {
    "name": "ipython",
    "version": 3
   },
   "file_extension": ".py",
   "mimetype": "text/x-python",
   "name": "python",
   "nbconvert_exporter": "python",
   "pygments_lexer": "ipython3",
   "version": "3.9.7"
  },
  "orig_nbformat": 4
 },
 "nbformat": 4,
 "nbformat_minor": 2
}
